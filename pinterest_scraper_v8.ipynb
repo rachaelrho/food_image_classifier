{
 "cells": [
  {
   "cell_type": "code",
   "execution_count": 1,
   "metadata": {
    "collapsed": true
   },
   "outputs": [],
   "source": [
    "import pandas as pd\n",
    "import numpy as np\n",
    "import pickle\n",
    "import re\n",
    "import itertools\n",
    "import os\n",
    "\n",
    "import requests\n",
    "import urllib2  \n",
    "from bs4 import BeautifulSoup \n",
    "import html5lib\n",
    "import json\n",
    "import shutil\n",
    "from StringIO import StringIO\n",
    "import gzip \n",
    "import time\n",
    "\n",
    "from selenium import webdriver\n",
    "from selenium.webdriver.support.ui import Select\n",
    "from selenium.webdriver.common.action_chains import ActionChains\n",
    "from selenium.webdriver.common.keys import Keys"
   ]
  },
  {
   "cell_type": "code",
   "execution_count": 2,
   "metadata": {
    "collapsed": false
   },
   "outputs": [],
   "source": [
    "driver = webdriver.Chrome()\n",
    "driver.get('https://www.pinterest.com/')"
   ]
  },
  {
   "cell_type": "code",
   "execution_count": 3,
   "metadata": {
    "collapsed": false
   },
   "outputs": [],
   "source": [
    "links = ['https://www.pinterest.com/search/pins/?q=spaghetti%20bolognese&rs=typed&0=spaghetti%7Ctyped&1=bolognese%7Ctyped',\n",
    "         'https://www.pinterest.com/search/pins/?q=zoodles&rs=typed&0=zoodles%7Ctyped']\n",
    "\n",
    "for link in links:\n",
    "\n",
    "    driver.get(link)\n",
    "    srcs = []\n",
    "    no_of_scrolls = 200\n",
    "\n",
    "    while no_of_scrolls:\n",
    "\n",
    "        time.sleep(5)\n",
    "        driver.execute_script(\"window.scrollTo(0, document.body.scrollHeight);\")\n",
    "        no_of_scrolls-=1\n",
    "\n",
    "        if no_of_scrolls % 20 == 0:\n",
    "\n",
    "            time.sleep(10)\n",
    "            html_source = driver.page_source\n",
    "            data = html_source.encode('utf-8')\n",
    "            time.sleep(5)\n",
    "\n",
    "            soup = BeautifulSoup(data)\n",
    "            srcs.append([x['src'] for x in soup.findAll('img', {'class': 'pinImg fullBleed loaded fade'})])\n",
    "\n",
    "        print str(no_of_scrolls) + '-' + str(len(srcs))\n",
    "\n",
    "    flatList = [val for sublist in srcs for val in sublist] \n",
    "    finalsrcs = set(flatList)\n",
    "    finalsrcs = list(finalsrcs)\n",
    "\n",
    "    for i in range(0,len(finalsrcs)):\n",
    "        response = requests.get(finalsrcs[i], stream=True)\n",
    "        if response.status_code == 200:\n",
    "            with open(str(i) + '.jpg', 'wb') as f:\n",
    "                response.raw.decode_content = True\n",
    "                shutil.copyfileobj(response.raw, f) "
   ]
  },
  {
   "cell_type": "code",
   "execution_count": 4,
   "metadata": {
    "collapsed": true
   },
   "outputs": [],
   "source": [
    "flatList = [val for sublist in srcs for val in sublist] \n",
    "finalsrcs = set(flatList)\n",
    "finalsrcs = list(finalsrcs)\n",
    "\n",
    "for i in range(0,len(finalsrcs)):\n",
    "    response = requests.get(finalsrcs[i], stream=True)\n",
    "    if response.status_code == 200:\n",
    "        with open(str(i) + '.jpg', 'wb') as f:\n",
    "            response.raw.decode_content = True\n",
    "            shutil.copyfileobj(response.raw, f) "
   ]
  },
  {
   "cell_type": "code",
   "execution_count": 178,
   "metadata": {
    "collapsed": true
   },
   "outputs": [],
   "source": []
  }
 ],
 "metadata": {
  "kernelspec": {
   "display_name": "Python 2",
   "language": "python",
   "name": "python2"
  },
  "language_info": {
   "codemirror_mode": {
    "name": "ipython",
    "version": 2
   },
   "file_extension": ".py",
   "mimetype": "text/x-python",
   "name": "python",
   "nbconvert_exporter": "python",
   "pygments_lexer": "ipython2",
   "version": "2.7.12"
  }
 },
 "nbformat": 4,
 "nbformat_minor": 0
}
